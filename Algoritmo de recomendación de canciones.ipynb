{
 "cells": [
  {
   "cell_type": "markdown",
   "id": "8df9c05d",
   "metadata": {},
   "source": [
    "Sistema de recoemndación de canciones"
   ]
  },
  {
   "cell_type": "code",
   "execution_count": null,
   "id": "544265b1",
   "metadata": {},
   "outputs": [],
   "source": []
  }
 ],
 "metadata": {
  "language_info": {
   "name": "python"
  }
 },
 "nbformat": 4,
 "nbformat_minor": 5
}
