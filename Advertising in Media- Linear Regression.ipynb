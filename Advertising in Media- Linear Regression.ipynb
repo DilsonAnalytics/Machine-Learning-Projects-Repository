{
 "cells": [
  {
   "cell_type": "markdown",
   "metadata": {},
   "source": [
    "## Predicción de Ventas a partir del Gasto en Publicidad utilizando Modelos de Regresión Lineal\n",
    "\n"
   ]
  },
  {
   "cell_type": "markdown",
   "metadata": {},
   "source": [
    "### Descripción del Proyecto\n",
    "Este proyecto utiliza modelos de machine learning para analizar y predecir las ventas de un producto en función del gasto en publicidad en tres medios principales: TV, Radio y Periódico. Se implementaron técnicas de regresión lineal simple y regresión lineal múltiple para evaluar cómo cada canal de publicidad, individualmente y en combinación, influye en las ventas.\n",
    "\n",
    "Para el análisis y preparación de los datos, se utilizaron herramientas como Pandas y NumPy para la limpieza y manipulación de datos. Además, se aplicaron técnicas de visualización de datos con Matplotlib y Seaborn para identificar patrones y relaciones en el dataset.\n",
    "\n",
    "En la fase de modelado, se empleó la biblioteca de machine learning Scikit-Learn para entrenar y evaluar los modelos, optimizando su rendimiento para obtener predicciones precisas."
   ]
  },
  {
   "cell_type": "markdown",
   "metadata": {},
   "source": [
    "### 1. Importar librerías y data set"
   ]
  },
  {
   "cell_type": "code",
   "execution_count": 304,
   "metadata": {},
   "outputs": [],
   "source": [
    "import pandas as pd\n",
    "import numpy as np\n",
    "import matplotlib.pyplot as plt\n",
    "import seaborn as sns"
   ]
  },
  {
   "cell_type": "markdown",
   "metadata": {},
   "source": [
    "### 2. Importar data set CSV"
   ]
  },
  {
   "cell_type": "code",
   "execution_count": 305,
   "metadata": {},
   "outputs": [],
   "source": [
    "data = pd.read_csv(\"C:/Users/Dilson/Desktop/Advertising.csv\")"
   ]
  },
  {
   "cell_type": "markdown",
   "metadata": {},
   "source": [
    "### 3. Exploración general de los datos"
   ]
  },
  {
   "cell_type": "code",
   "execution_count": 347,
   "metadata": {},
   "outputs": [
    {
     "data": {
      "text/html": [
       "<div>\n",
       "<style scoped>\n",
       "    .dataframe tbody tr th:only-of-type {\n",
       "        vertical-align: middle;\n",
       "    }\n",
       "\n",
       "    .dataframe tbody tr th {\n",
       "        vertical-align: top;\n",
       "    }\n",
       "\n",
       "    .dataframe thead th {\n",
       "        text-align: right;\n",
       "    }\n",
       "</style>\n",
       "<table border=\"1\" class=\"dataframe\">\n",
       "  <thead>\n",
       "    <tr style=\"text-align: right;\">\n",
       "      <th></th>\n",
       "      <th>TV</th>\n",
       "      <th>Radio</th>\n",
       "      <th>Newspaper</th>\n",
       "      <th>Sales</th>\n",
       "    </tr>\n",
       "  </thead>\n",
       "  <tbody>\n",
       "    <tr>\n",
       "      <th>0</th>\n",
       "      <td>230.1</td>\n",
       "      <td>37.8</td>\n",
       "      <td>69.2</td>\n",
       "      <td>22.1</td>\n",
       "    </tr>\n",
       "    <tr>\n",
       "      <th>1</th>\n",
       "      <td>44.5</td>\n",
       "      <td>39.3</td>\n",
       "      <td>45.1</td>\n",
       "      <td>10.4</td>\n",
       "    </tr>\n",
       "    <tr>\n",
       "      <th>2</th>\n",
       "      <td>17.2</td>\n",
       "      <td>45.9</td>\n",
       "      <td>69.3</td>\n",
       "      <td>9.3</td>\n",
       "    </tr>\n",
       "    <tr>\n",
       "      <th>3</th>\n",
       "      <td>151.5</td>\n",
       "      <td>41.3</td>\n",
       "      <td>58.5</td>\n",
       "      <td>18.5</td>\n",
       "    </tr>\n",
       "    <tr>\n",
       "      <th>4</th>\n",
       "      <td>180.8</td>\n",
       "      <td>10.8</td>\n",
       "      <td>58.4</td>\n",
       "      <td>12.9</td>\n",
       "    </tr>\n",
       "  </tbody>\n",
       "</table>\n",
       "</div>"
      ],
      "text/plain": [
       "      TV  Radio  Newspaper  Sales\n",
       "0  230.1   37.8       69.2   22.1\n",
       "1   44.5   39.3       45.1   10.4\n",
       "2   17.2   45.9       69.3    9.3\n",
       "3  151.5   41.3       58.5   18.5\n",
       "4  180.8   10.8       58.4   12.9"
      ]
     },
     "execution_count": 347,
     "metadata": {},
     "output_type": "execute_result"
    }
   ],
   "source": [
    "data.head()  ## Ver primeras cinco filas del data set"
   ]
  },
  {
   "cell_type": "markdown",
   "metadata": {},
   "source": [
    "#### Correlacion de las variables "
   ]
  },
  {
   "cell_type": "markdown",
   "metadata": {},
   "source": [
    "La correlación es una medida estadística que indica la relación y la fuerza de asociación entre dos variables.\n",
    " 1: Correlación positiva perfecta. Las variables se relacionan de manera directa y proporcional.\n",
    " 0: No existe relación lineal entre las variables.\n",
    "-1: Correlación negativa perfecta. Las variables se relacionan inversamente de manera proporcional.\n",
    "\n"
   ]
  },
  {
   "cell_type": "code",
   "execution_count": 349,
   "metadata": {},
   "outputs": [
    {
     "data": {
      "text/html": [
       "<div>\n",
       "<style scoped>\n",
       "    .dataframe tbody tr th:only-of-type {\n",
       "        vertical-align: middle;\n",
       "    }\n",
       "\n",
       "    .dataframe tbody tr th {\n",
       "        vertical-align: top;\n",
       "    }\n",
       "\n",
       "    .dataframe thead th {\n",
       "        text-align: right;\n",
       "    }\n",
       "</style>\n",
       "<table border=\"1\" class=\"dataframe\">\n",
       "  <thead>\n",
       "    <tr style=\"text-align: right;\">\n",
       "      <th></th>\n",
       "      <th>TV</th>\n",
       "      <th>Radio</th>\n",
       "      <th>Newspaper</th>\n",
       "      <th>Sales</th>\n",
       "    </tr>\n",
       "  </thead>\n",
       "  <tbody>\n",
       "    <tr>\n",
       "      <th>TV</th>\n",
       "      <td>1.000000</td>\n",
       "      <td>0.054809</td>\n",
       "      <td>0.056648</td>\n",
       "      <td>0.782224</td>\n",
       "    </tr>\n",
       "    <tr>\n",
       "      <th>Radio</th>\n",
       "      <td>0.054809</td>\n",
       "      <td>1.000000</td>\n",
       "      <td>0.354104</td>\n",
       "      <td>0.576223</td>\n",
       "    </tr>\n",
       "    <tr>\n",
       "      <th>Newspaper</th>\n",
       "      <td>0.056648</td>\n",
       "      <td>0.354104</td>\n",
       "      <td>1.000000</td>\n",
       "      <td>0.228299</td>\n",
       "    </tr>\n",
       "    <tr>\n",
       "      <th>Sales</th>\n",
       "      <td>0.782224</td>\n",
       "      <td>0.576223</td>\n",
       "      <td>0.228299</td>\n",
       "      <td>1.000000</td>\n",
       "    </tr>\n",
       "  </tbody>\n",
       "</table>\n",
       "</div>"
      ],
      "text/plain": [
       "                 TV     Radio  Newspaper     Sales\n",
       "TV         1.000000  0.054809   0.056648  0.782224\n",
       "Radio      0.054809  1.000000   0.354104  0.576223\n",
       "Newspaper  0.056648  0.354104   1.000000  0.228299\n",
       "Sales      0.782224  0.576223   0.228299  1.000000"
      ]
     },
     "execution_count": 349,
     "metadata": {},
     "output_type": "execute_result"
    }
   ],
   "source": [
    "data.corr()"
   ]
  },
  {
   "cell_type": "markdown",
   "metadata": {},
   "source": [
    "\n",
    "Se observa que TV tiene una correlación más cercana a Sales, seguido de el Radio, y de final Newspaper "
   ]
  },
  {
   "cell_type": "markdown",
   "metadata": {},
   "source": [
    "#### Gráficas de correlaciones"
   ]
  },
  {
   "cell_type": "code",
   "execution_count": 386,
   "metadata": {},
   "outputs": [
    {
     "data": {
      "image/png": "[encoded data removed]",
      "text/plain": [
       "<Figure size 640x480 with 1 Axes>"
      ]
     },
     "metadata": {},
     "output_type": "display_data"
    }
   ],
   "source": [
    "#Correlación de TV y Sales\n",
    "plt.plot(data[\"TV\"], data [\"Sales\"], \"bo\")  #\"bo\" hace el gráfico con puntos de color azul\n",
    "plt.title (\"Ventas respecto a publicidad en TV\")\n",
    "plt.show()"
   ]
  },
  {
   "cell_type": "code",
   "execution_count": null,
   "metadata": {},
   "outputs": [
    {
     "data": {
      "image/png": "[encoded data removed]",
      "text/plain": [
       "<Figure size 640x480 with 1 Axes>"
      ]
     },
     "metadata": {},
     "output_type": "display_data"
    }
   ],
   "source": [
    "#Correlación de Radio y Sales\n",
    "plt.plot(data[\"Radio\"], data [\"Sales\"], \"ro\") #\"ro\" hace el gráfico con puntos de color rojo\n",
    "plt.title (\"Ventas respecto a publicidad en Radio\")\n",
    "plt.show()"
   ]
  },
  {
   "cell_type": "code",
   "execution_count": null,
   "metadata": {},
   "outputs": [
    {
     "data": {
      "image/png": "[encoded data removed]",
      "text/plain": [
       "<Figure size 640x480 with 1 Axes>"
      ]
     },
     "metadata": {},
     "output_type": "display_data"
    }
   ],
   "source": [
    "#Correlación de Newspaper y Sales\n",
    "plt.plot(data[\"Newspaper\"], data [\"Sales\"], \"yo\") #\"yo\" hace el gráfico con puntos de color amarillo\n",
    "plt.title (\"Ventas respecto a publicidad en periodico\")\n",
    "plt.show()"
   ]
  },
  {
   "cell_type": "markdown",
   "metadata": {},
   "source": [
    "### 4. Modelado"
   ]
  },
  {
   "cell_type": "code",
   "execution_count": 683,
   "metadata": {},
   "outputs": [],
   "source": [
    "##Importar librería\n",
    "from sklearn.linear_model import LinearRegression\n",
    "from sklearn.model_selection import train_test_split\n",
    "from sklearn.metrics import mean_squared_error"
   ]
  },
  {
   "cell_type": "markdown",
   "metadata": {},
   "source": [
    "#### Variable independiente TV"
   ]
  },
  {
   "cell_type": "markdown",
   "metadata": {},
   "source": [
    " Es necesario transformar los datos en un formato 2D,  con reshape(-1, 1), si se está utilizando un modelo de regresión lineal, ya que estos modelos esperan que las entradas (características) sean proporcionadas en formato de matriz 2D. Aunque solo tengas una sola característica (por ejemplo, la columna TV), el modelo necesita que la entrada sea una matriz bidimensional."
   ]
  },
  {
   "cell_type": "code",
   "execution_count": 684,
   "metadata": {},
   "outputs": [
    {
     "data": {
      "text/plain": [
       "array([[230.1],\n",
       "       [ 44.5],\n",
       "       [ 17.2],\n",
       "       [151.5],\n",
       "       [180.8],\n",
       "       [  8.7],\n",
       "       [ 57.5],\n",
       "       [120.2],\n",
       "       [  8.6],\n",
       "       [199.8],\n",
       "       [ 66.1],\n",
       "       [214.7],\n",
       "       [ 23.8],\n",
       "       [ 97.5],\n",
       "       [204.1],\n",
       "       [195.4],\n",
       "       [ 67.8],\n",
       "       [281.4],\n",
       "       [ 69.2],\n",
       "       [147.3],\n",
       "       [218.4],\n",
       "       [237.4],\n",
       "       [ 13.2],\n",
       "       [228.3],\n",
       "       [ 62.3],\n",
       "       [262.9],\n",
       "       [142.9],\n",
       "       [240.1],\n",
       "       [248.8],\n",
       "       [ 70.6],\n",
       "       [292.9],\n",
       "       [112.9],\n",
       "       [ 97.2],\n",
       "       [265.6],\n",
       "       [ 95.7],\n",
       "       [290.7],\n",
       "       [266.9],\n",
       "       [ 74.7],\n",
       "       [ 43.1],\n",
       "       [228. ],\n",
       "       [202.5],\n",
       "       [177. ],\n",
       "       [293.6],\n",
       "       [206.9],\n",
       "       [ 25.1],\n",
       "       [175.1],\n",
       "       [ 89.7],\n",
       "       [239.9],\n",
       "       [227.2],\n",
       "       [ 66.9],\n",
       "       [199.8],\n",
       "       [100.4],\n",
       "       [216.4],\n",
       "       [182.6],\n",
       "       [262.7],\n",
       "       [198.9],\n",
       "       [  7.3],\n",
       "       [136.2],\n",
       "       [210.8],\n",
       "       [210.7],\n",
       "       [ 53.5],\n",
       "       [261.3],\n",
       "       [239.3],\n",
       "       [102.7],\n",
       "       [131.1],\n",
       "       [ 69. ],\n",
       "       [ 31.5],\n",
       "       [139.3],\n",
       "       [237.4],\n",
       "       [216.8],\n",
       "       [199.1],\n",
       "       [109.8],\n",
       "       [ 26.8],\n",
       "       [129.4],\n",
       "       [213.4],\n",
       "       [ 16.9],\n",
       "       [ 27.5],\n",
       "       [120.5],\n",
       "       [  5.4],\n",
       "       [116. ],\n",
       "       [ 76.4],\n",
       "       [239.8],\n",
       "       [ 75.3],\n",
       "       [ 68.4],\n",
       "       [213.5],\n",
       "       [193.2],\n",
       "       [ 76.3],\n",
       "       [110.7],\n",
       "       [ 88.3],\n",
       "       [109.8],\n",
       "       [134.3],\n",
       "       [ 28.6],\n",
       "       [217.7],\n",
       "       [250.9],\n",
       "       [107.4],\n",
       "       [163.3],\n",
       "       [197.6],\n",
       "       [184.9],\n",
       "       [289.7],\n",
       "       [135.2],\n",
       "       [222.4],\n",
       "       [296.4],\n",
       "       [280.2],\n",
       "       [187.9],\n",
       "       [238.2],\n",
       "       [137.9],\n",
       "       [ 25. ],\n",
       "       [ 90.4],\n",
       "       [ 13.1],\n",
       "       [255.4],\n",
       "       [225.8],\n",
       "       [241.7],\n",
       "       [175.7],\n",
       "       [209.6],\n",
       "       [ 78.2],\n",
       "       [ 75.1],\n",
       "       [139.2],\n",
       "       [ 76.4],\n",
       "       [125.7],\n",
       "       [ 19.4],\n",
       "       [141.3],\n",
       "       [ 18.8],\n",
       "       [224. ],\n",
       "       [123.1],\n",
       "       [229.5],\n",
       "       [ 87.2],\n",
       "       [  7.8],\n",
       "       [ 80.2],\n",
       "       [220.3],\n",
       "       [ 59.6],\n",
       "       [  0.7],\n",
       "       [265.2],\n",
       "       [  8.4],\n",
       "       [219.8],\n",
       "       [ 36.9],\n",
       "       [ 48.3],\n",
       "       [ 25.6],\n",
       "       [273.7],\n",
       "       [ 43. ],\n",
       "       [184.9],\n",
       "       [ 73.4],\n",
       "       [193.7],\n",
       "       [220.5],\n",
       "       [104.6],\n",
       "       [ 96.2],\n",
       "       [140.3],\n",
       "       [240.1],\n",
       "       [243.2],\n",
       "       [ 38. ],\n",
       "       [ 44.7],\n",
       "       [280.7],\n",
       "       [121. ],\n",
       "       [197.6],\n",
       "       [171.3],\n",
       "       [187.8],\n",
       "       [  4.1],\n",
       "       [ 93.9],\n",
       "       [149.8],\n",
       "       [ 11.7],\n",
       "       [131.7],\n",
       "       [172.5],\n",
       "       [ 85.7],\n",
       "       [188.4],\n",
       "       [163.5],\n",
       "       [117.2],\n",
       "       [234.5],\n",
       "       [ 17.9],\n",
       "       [206.8],\n",
       "       [215.4],\n",
       "       [284.3],\n",
       "       [ 50. ],\n",
       "       [164.5],\n",
       "       [ 19.6],\n",
       "       [168.4],\n",
       "       [222.4],\n",
       "       [276.9],\n",
       "       [248.4],\n",
       "       [170.2],\n",
       "       [276.7],\n",
       "       [165.6],\n",
       "       [156.6],\n",
       "       [218.5],\n",
       "       [ 56.2],\n",
       "       [287.6],\n",
       "       [253.8],\n",
       "       [205. ],\n",
       "       [139.5],\n",
       "       [191.1],\n",
       "       [286. ],\n",
       "       [ 18.7],\n",
       "       [ 39.5],\n",
       "       [ 75.5],\n",
       "       [ 17.2],\n",
       "       [166.8],\n",
       "       [149.7],\n",
       "       [ 38.2],\n",
       "       [ 94.2],\n",
       "       [177. ],\n",
       "       [283.6],\n",
       "       [232.1]])"
      ]
     },
     "execution_count": 684,
     "metadata": {},
     "output_type": "execute_result"
    }
   ],
   "source": [
    "data_tv = data [\"TV\"] # Guardar en variable la columna TV\n",
    "data_tv = data_tv.values.reshape (-1,1)  #se utiliza para cambiar la forma (dimensiones) de un arreglo sin alterar sus datos.\n",
    "data_tv"
   ]
  },
  {
   "cell_type": "markdown",
   "metadata": {},
   "source": [
    "#### Variable dependiente"
   ]
  },
  {
   "cell_type": "code",
   "execution_count": 685,
   "metadata": {},
   "outputs": [],
   "source": [
    "y = data[\"Sales\"].values # Solo selecciono los valores de la columna \"Sales\" que es mi variable dependiente"
   ]
  },
  {
   "cell_type": "markdown",
   "metadata": {},
   "source": [
    "#### Dividir conjunto entre entrenamiento y testing"
   ]
  },
  {
   "cell_type": "markdown",
   "metadata": {},
   "source": [
    "Dividir el conjunto de datos en conjuntos de entrenamiento y conjuntos de prueba. Este paso es fundamental en los modelos de machine learning para evaluar el rendimiento del modelo de manera objetiva. "
   ]
  },
  {
   "cell_type": "code",
   "execution_count": 686,
   "metadata": {},
   "outputs": [],
   "source": [
    "X_train, X_test, Y_train, Y_test =  train_test_split (data_tv, y, test_size = 0.3, random_state=42) # Divide mis datos 30% para entrenar modelo y 70% para test"
   ]
  },
  {
   "cell_type": "markdown",
   "metadata": {},
   "source": [
    "#### Crear regresión"
   ]
  },
  {
   "cell_type": "code",
   "execution_count": 687,
   "metadata": {},
   "outputs": [
    {
     "data": {
      "text/html": [
       "<style>#sk-container-id-10 {\n",
       "  /* Definition of color scheme common for light and dark mode */\n",
       "  --sklearn-color-text: #000;\n",
       "  --sklearn-color-text-muted: #666;\n",
       "  --sklearn-color-line: gray;\n",
       "  /* Definition of color scheme for unfitted estimators */\n",
       "  --sklearn-color-unfitted-level-0: #fff5e6;\n",
       "  --sklearn-color-unfitted-level-1: #f6e4d2;\n",
       "  --sklearn-color-unfitted-level-2: #ffe0b3;\n",
       "  --sklearn-color-unfitted-level-3: chocolate;\n",
       "  /* Definition of color scheme for fitted estimators */\n",
       "  --sklearn-color-fitted-level-0: #f0f8ff;\n",
       "  --sklearn-color-fitted-level-1: #d4ebff;\n",
       "  --sklearn-color-fitted-level-2: #b3dbfd;\n",
       "  --sklearn-color-fitted-level-3: cornflowerblue;\n",
       "\n",
       "  /* Specific color for light theme */\n",
       "  --sklearn-color-text-on-default-background: var(--sg-text-color, var(--theme-code-foreground, var(--jp-content-font-color1, black)));\n",
       "  --sklearn-color-background: var(--sg-background-color, var(--theme-background, var(--jp-layout-color0, white)));\n",
       "  --sklearn-color-border-box: var(--sg-text-color, var(--theme-code-foreground, var(--jp-content-font-color1, black)));\n",
       "  --sklearn-color-icon: #696969;\n",
       "\n",
       "  @media (prefers-color-scheme: dark) {\n",
       "    /* Redefinition of color scheme for dark theme */\n",
       "    --sklearn-color-text-on-default-background: var(--sg-text-color, var(--theme-code-foreground, var(--jp-content-font-color1, white)));\n",
       "    --sklearn-color-background: var(--sg-background-color, var(--theme-background, var(--jp-layout-color0, #111)));\n",
       "    --sklearn-color-border-box: var(--sg-text-color, var(--theme-code-foreground, var(--jp-content-font-color1, white)));\n",
       "    --sklearn-color-icon: #878787;\n",
       "  }\n",
       "}\n",
       "\n",
       "#sk-container-id-10 {\n",
       "  color: var(--sklearn-color-text);\n",
       "}\n",
       "\n",
       "#sk-container-id-10 pre {\n",
       "  padding: 0;\n",
       "}\n",
       "\n",
       "#sk-container-id-10 input.sk-hidden--visually {\n",
       "  border: 0;\n",
       "  clip: rect(1px 1px 1px 1px);\n",
       "  clip: rect(1px, 1px, 1px, 1px);\n",
       "  height: 1px;\n",
       "  margin: -1px;\n",
       "  overflow: hidden;\n",
       "  padding: 0;\n",
       "  position: absolute;\n",
       "  width: 1px;\n",
       "}\n",
       "\n",
       "#sk-container-id-10 div.sk-dashed-wrapped {\n",
       "  border: 1px dashed var(--sklearn-color-line);\n",
       "  margin: 0 0.4em 0.5em 0.4em;\n",
       "  box-sizing: border-box;\n",
       "  padding-bottom: 0.4em;\n",
       "  background-color: var(--sklearn-color-background);\n",
       "}\n",
       "\n",
       "#sk-container-id-10 div.sk-container {\n",
       "  /* jupyter's `normalize.less` sets `[hidden] { display: none; }`\n",
       "     but bootstrap.min.css set `[hidden] { display: none !important; }`\n",
       "     so we also need the `!important` here to be able to override the\n",
       "     default hidden behavior on the sphinx rendered scikit-learn.org.\n",
       "     See: https://github.com/scikit-learn/scikit-learn/issues/21755 */\n",
       "  display: inline-block !important;\n",
       "  position: relative;\n",
       "}\n",
       "\n",
       "#sk-container-id-10 div.sk-text-repr-fallback {\n",
       "  display: none;\n",
       "}\n",
       "\n",
       "div.sk-parallel-item,\n",
       "div.sk-serial,\n",
       "div.sk-item {\n",
       "  /* draw centered vertical line to link estimators */\n",
       "  background-image: linear-gradient(var(--sklearn-color-text-on-default-background), var(--sklearn-color-text-on-default-background));\n",
       "  background-size: 2px 100%;\n",
       "  background-repeat: no-repeat;\n",
       "  background-position: center center;\n",
       "}\n",
       "\n",
       "/* Parallel-specific style estimator block */\n",
       "\n",
       "#sk-container-id-10 div.sk-parallel-item::after {\n",
       "  content: \"\";\n",
       "  width: 100%;\n",
       "  border-bottom: 2px solid var(--sklearn-color-text-on-default-background);\n",
       "  flex-grow: 1;\n",
       "}\n",
       "\n",
       "#sk-container-id-10 div.sk-parallel {\n",
       "  display: flex;\n",
       "  align-items: stretch;\n",
       "  justify-content: center;\n",
       "  background-color: var(--sklearn-color-background);\n",
       "  position: relative;\n",
       "}\n",
       "\n",
       "#sk-container-id-10 div.sk-parallel-item {\n",
       "  display: flex;\n",
       "  flex-direction: column;\n",
       "}\n",
       "\n",
       "#sk-container-id-10 div.sk-parallel-item:first-child::after {\n",
       "  align-self: flex-end;\n",
       "  width: 50%;\n",
       "}\n",
       "\n",
       "#sk-container-id-10 div.sk-parallel-item:last-child::after {\n",
       "  align-self: flex-start;\n",
       "  width: 50%;\n",
       "}\n",
       "\n",
       "#sk-container-id-10 div.sk-parallel-item:only-child::after {\n",
       "  width: 0;\n",
       "}\n",
       "\n",
       "/* Serial-specific style estimator block */\n",
       "\n",
       "#sk-container-id-10 div.sk-serial {\n",
       "  display: flex;\n",
       "  flex-direction: column;\n",
       "  align-items: center;\n",
       "  background-color: var(--sklearn-color-background);\n",
       "  padding-right: 1em;\n",
       "  padding-left: 1em;\n",
       "}\n",
       "\n",
       "\n",
       "/* Toggleable style: style used for estimator/Pipeline/ColumnTransformer box that is\n",
       "clickable and can be expanded/collapsed.\n",
       "- Pipeline and ColumnTransformer use this feature and define the default style\n",
       "- Estimators will overwrite some part of the style using the `sk-estimator` class\n",
       "*/\n",
       "\n",
       "/* Pipeline and ColumnTransformer style (default) */\n",
       "\n",
       "#sk-container-id-10 div.sk-toggleable {\n",
       "  /* Default theme specific background. It is overwritten whether we have a\n",
       "  specific estimator or a Pipeline/ColumnTransformer */\n",
       "  background-color: var(--sklearn-color-background);\n",
       "}\n",
       "\n",
       "/* Toggleable label */\n",
       "#sk-container-id-10 label.sk-toggleable__label {\n",
       "  cursor: pointer;\n",
       "  display: flex;\n",
       "  width: 100%;\n",
       "  margin-bottom: 0;\n",
       "  padding: 0.5em;\n",
       "  box-sizing: border-box;\n",
       "  text-align: center;\n",
       "  align-items: start;\n",
       "  justify-content: space-between;\n",
       "  gap: 0.5em;\n",
       "}\n",
       "\n",
       "#sk-container-id-10 label.sk-toggleable__label .caption {\n",
       "  font-size: 0.6rem;\n",
       "  font-weight: lighter;\n",
       "  color: var(--sklearn-color-text-muted);\n",
       "}\n",
       "\n",
       "#sk-container-id-10 label.sk-toggleable__label-arrow:before {\n",
       "  /* Arrow on the left of the label */\n",
       "  content: \"▸\";\n",
       "  float: left;\n",
       "  margin-right: 0.25em;\n",
       "  color: var(--sklearn-color-icon);\n",
       "}\n",
       "\n",
       "#sk-container-id-10 label.sk-toggleable__label-arrow:hover:before {\n",
       "  color: var(--sklearn-color-text);\n",
       "}\n",
       "\n",
       "/* Toggleable content - dropdown */\n",
       "\n",
       "#sk-container-id-10 div.sk-toggleable__content {\n",
       "  max-height: 0;\n",
       "  max-width: 0;\n",
       "  overflow: hidden;\n",
       "  text-align: left;\n",
       "  /* unfitted */\n",
       "  background-color: var(--sklearn-color-unfitted-level-0);\n",
       "}\n",
       "\n",
       "#sk-container-id-10 div.sk-toggleable__content.fitted {\n",
       "  /* fitted */\n",
       "  background-color: var(--sklearn-color-fitted-level-0);\n",
       "}\n",
       "\n",
       "#sk-container-id-10 div.sk-toggleable__content pre {\n",
       "  margin: 0.2em;\n",
       "  border-radius: 0.25em;\n",
       "  color: var(--sklearn-color-text);\n",
       "  /* unfitted */\n",
       "  background-color: var(--sklearn-color-unfitted-level-0);\n",
       "}\n",
       "\n",
       "#sk-container-id-10 div.sk-toggleable__content.fitted pre {\n",
       "  /* unfitted */\n",
       "  background-color: var(--sklearn-color-fitted-level-0);\n",
       "}\n",
       "\n",
       "#sk-container-id-10 input.sk-toggleable__control:checked~div.sk-toggleable__content {\n",
       "  /* Expand drop-down */\n",
       "  max-height: 200px;\n",
       "  max-width: 100%;\n",
       "  overflow: auto;\n",
       "}\n",
       "\n",
       "#sk-container-id-10 input.sk-toggleable__control:checked~label.sk-toggleable__label-arrow:before {\n",
       "  content: \"▾\";\n",
       "}\n",
       "\n",
       "/* Pipeline/ColumnTransformer-specific style */\n",
       "\n",
       "#sk-container-id-10 div.sk-label input.sk-toggleable__control:checked~label.sk-toggleable__label {\n",
       "  color: var(--sklearn-color-text);\n",
       "  background-color: var(--sklearn-color-unfitted-level-2);\n",
       "}\n",
       "\n",
       "#sk-container-id-10 div.sk-label.fitted input.sk-toggleable__control:checked~label.sk-toggleable__label {\n",
       "  background-color: var(--sklearn-color-fitted-level-2);\n",
       "}\n",
       "\n",
       "/* Estimator-specific style */\n",
       "\n",
       "/* Colorize estimator box */\n",
       "#sk-container-id-10 div.sk-estimator input.sk-toggleable__control:checked~label.sk-toggleable__label {\n",
       "  /* unfitted */\n",
       "  background-color: var(--sklearn-color-unfitted-level-2);\n",
       "}\n",
       "\n",
       "#sk-container-id-10 div.sk-estimator.fitted input.sk-toggleable__control:checked~label.sk-toggleable__label {\n",
       "  /* fitted */\n",
       "  background-color: var(--sklearn-color-fitted-level-2);\n",
       "}\n",
       "\n",
       "#sk-container-id-10 div.sk-label label.sk-toggleable__label,\n",
       "#sk-container-id-10 div.sk-label label {\n",
       "  /* The background is the default theme color */\n",
       "  color: var(--sklearn-color-text-on-default-background);\n",
       "}\n",
       "\n",
       "/* On hover, darken the color of the background */\n",
       "#sk-container-id-10 div.sk-label:hover label.sk-toggleable__label {\n",
       "  color: var(--sklearn-color-text);\n",
       "  background-color: var(--sklearn-color-unfitted-level-2);\n",
       "}\n",
       "\n",
       "/* Label box, darken color on hover, fitted */\n",
       "#sk-container-id-10 div.sk-label.fitted:hover label.sk-toggleable__label.fitted {\n",
       "  color: var(--sklearn-color-text);\n",
       "  background-color: var(--sklearn-color-fitted-level-2);\n",
       "}\n",
       "\n",
       "/* Estimator label */\n",
       "\n",
       "#sk-container-id-10 div.sk-label label {\n",
       "  font-family: monospace;\n",
       "  font-weight: bold;\n",
       "  display: inline-block;\n",
       "  line-height: 1.2em;\n",
       "}\n",
       "\n",
       "#sk-container-id-10 div.sk-label-container {\n",
       "  text-align: center;\n",
       "}\n",
       "\n",
       "/* Estimator-specific */\n",
       "#sk-container-id-10 div.sk-estimator {\n",
       "  font-family: monospace;\n",
       "  border: 1px dotted var(--sklearn-color-border-box);\n",
       "  border-radius: 0.25em;\n",
       "  box-sizing: border-box;\n",
       "  margin-bottom: 0.5em;\n",
       "  /* unfitted */\n",
       "  background-color: var(--sklearn-color-unfitted-level-0);\n",
       "}\n",
       "\n",
       "#sk-container-id-10 div.sk-estimator.fitted {\n",
       "  /* fitted */\n",
       "  background-color: var(--sklearn-color-fitted-level-0);\n",
       "}\n",
       "\n",
       "/* on hover */\n",
       "#sk-container-id-10 div.sk-estimator:hover {\n",
       "  /* unfitted */\n",
       "  background-color: var(--sklearn-color-unfitted-level-2);\n",
       "}\n",
       "\n",
       "#sk-container-id-10 div.sk-estimator.fitted:hover {\n",
       "  /* fitted */\n",
       "  background-color: var(--sklearn-color-fitted-level-2);\n",
       "}\n",
       "\n",
       "/* Specification for estimator info (e.g. \"i\" and \"?\") */\n",
       "\n",
       "/* Common style for \"i\" and \"?\" */\n",
       "\n",
       ".sk-estimator-doc-link,\n",
       "a:link.sk-estimator-doc-link,\n",
       "a:visited.sk-estimator-doc-link {\n",
       "  float: right;\n",
       "  font-size: smaller;\n",
       "  line-height: 1em;\n",
       "  font-family: monospace;\n",
       "  background-color: var(--sklearn-color-background);\n",
       "  border-radius: 1em;\n",
       "  height: 1em;\n",
       "  width: 1em;\n",
       "  text-decoration: none !important;\n",
       "  margin-left: 0.5em;\n",
       "  text-align: center;\n",
       "  /* unfitted */\n",
       "  border: var(--sklearn-color-unfitted-level-1) 1pt solid;\n",
       "  color: var(--sklearn-color-unfitted-level-1);\n",
       "}\n",
       "\n",
       ".sk-estimator-doc-link.fitted,\n",
       "a:link.sk-estimator-doc-link.fitted,\n",
       "a:visited.sk-estimator-doc-link.fitted {\n",
       "  /* fitted */\n",
       "  border: var(--sklearn-color-fitted-level-1) 1pt solid;\n",
       "  color: var(--sklearn-color-fitted-level-1);\n",
       "}\n",
       "\n",
       "/* On hover */\n",
       "div.sk-estimator:hover .sk-estimator-doc-link:hover,\n",
       ".sk-estimator-doc-link:hover,\n",
       "div.sk-label-container:hover .sk-estimator-doc-link:hover,\n",
       ".sk-estimator-doc-link:hover {\n",
       "  /* unfitted */\n",
       "  background-color: var(--sklearn-color-unfitted-level-3);\n",
       "  color: var(--sklearn-color-background);\n",
       "  text-decoration: none;\n",
       "}\n",
       "\n",
       "div.sk-estimator.fitted:hover .sk-estimator-doc-link.fitted:hover,\n",
       ".sk-estimator-doc-link.fitted:hover,\n",
       "div.sk-label-container:hover .sk-estimator-doc-link.fitted:hover,\n",
       ".sk-estimator-doc-link.fitted:hover {\n",
       "  /* fitted */\n",
       "  background-color: var(--sklearn-color-fitted-level-3);\n",
       "  color: var(--sklearn-color-background);\n",
       "  text-decoration: none;\n",
       "}\n",
       "\n",
       "/* Span, style for the box shown on hovering the info icon */\n",
       ".sk-estimator-doc-link span {\n",
       "  display: none;\n",
       "  z-index: 9999;\n",
       "  position: relative;\n",
       "  font-weight: normal;\n",
       "  right: .2ex;\n",
       "  padding: .5ex;\n",
       "  margin: .5ex;\n",
       "  width: min-content;\n",
       "  min-width: 20ex;\n",
       "  max-width: 50ex;\n",
       "  color: var(--sklearn-color-text);\n",
       "  box-shadow: 2pt 2pt 4pt #999;\n",
       "  /* unfitted */\n",
       "  background: var(--sklearn-color-unfitted-level-0);\n",
       "  border: .5pt solid var(--sklearn-color-unfitted-level-3);\n",
       "}\n",
       "\n",
       ".sk-estimator-doc-link.fitted span {\n",
       "  /* fitted */\n",
       "  background: var(--sklearn-color-fitted-level-0);\n",
       "  border: var(--sklearn-color-fitted-level-3);\n",
       "}\n",
       "\n",
       ".sk-estimator-doc-link:hover span {\n",
       "  display: block;\n",
       "}\n",
       "\n",
       "/* \"?\"-specific style due to the `<a>` HTML tag */\n",
       "\n",
       "#sk-container-id-10 a.estimator_doc_link {\n",
       "  float: right;\n",
       "  font-size: 1rem;\n",
       "  line-height: 1em;\n",
       "  font-family: monospace;\n",
       "  background-color: var(--sklearn-color-background);\n",
       "  border-radius: 1rem;\n",
       "  height: 1rem;\n",
       "  width: 1rem;\n",
       "  text-decoration: none;\n",
       "  /* unfitted */\n",
       "  color: var(--sklearn-color-unfitted-level-1);\n",
       "  border: var(--sklearn-color-unfitted-level-1) 1pt solid;\n",
       "}\n",
       "\n",
       "#sk-container-id-10 a.estimator_doc_link.fitted {\n",
       "  /* fitted */\n",
       "  border: var(--sklearn-color-fitted-level-1) 1pt solid;\n",
       "  color: var(--sklearn-color-fitted-level-1);\n",
       "}\n",
       "\n",
       "/* On hover */\n",
       "#sk-container-id-10 a.estimator_doc_link:hover {\n",
       "  /* unfitted */\n",
       "  background-color: var(--sklearn-color-unfitted-level-3);\n",
       "  color: var(--sklearn-color-background);\n",
       "  text-decoration: none;\n",
       "}\n",
       "\n",
       "#sk-container-id-10 a.estimator_doc_link.fitted:hover {\n",
       "  /* fitted */\n",
       "  background-color: var(--sklearn-color-fitted-level-3);\n",
       "}\n",
       "</style><div id=\"sk-container-id-10\" class=\"sk-top-container\"><div class=\"sk-text-repr-fallback\"><pre>LinearRegression()</pre><b>In a Jupyter environment, please rerun this cell to show the HTML representation or trust the notebook. <br />On GitHub, the HTML representation is unable to render, please try loading this page with nbviewer.org.</b></div><div class=\"sk-container\" hidden><div class=\"sk-item\"><div class=\"sk-estimator fitted sk-toggleable\"><input class=\"sk-toggleable__control sk-hidden--visually\" id=\"sk-estimator-id-10\" type=\"checkbox\" checked><label for=\"sk-estimator-id-10\" class=\"sk-toggleable__label fitted sk-toggleable__label-arrow\"><div><div>LinearRegression</div></div><div><a class=\"sk-estimator-doc-link fitted\" rel=\"noreferrer\" target=\"_blank\" href=\"https://scikit-learn.org/1.6/modules/generated/sklearn.linear_model.LinearRegression.html\">?<span>Documentation for LinearRegression</span></a><span class=\"sk-estimator-doc-link fitted\">i<span>Fitted</span></span></div></label><div class=\"sk-toggleable__content fitted\"><pre>LinearRegression()</pre></div> </div></div></div></div>"
      ],
      "text/plain": [
       "LinearRegression()"
      ]
     },
     "execution_count": 687,
     "metadata": {},
     "output_type": "execute_result"
    }
   ],
   "source": [
    "reg = LinearRegression() # Clase de scikit-learn que implementa el algoritmo de regresión lineal ordinaria\n",
    "reg.fit(X_train,Y_train) #Método utilizado para entrenar el modelo tomando como parametro la matriz de variables independientes y la variable dependiente"
   ]
  },
  {
   "cell_type": "markdown",
   "metadata": {},
   "source": [
    "### 5. Evaluación de Modelos"
   ]
  },
  {
   "cell_type": "markdown",
   "metadata": {},
   "source": [
    "Predecicción de nuestro modelo"
   ]
  },
  {
   "cell_type": "code",
   "execution_count": 688,
   "metadata": {},
   "outputs": [
    {
     "name": "stdout",
     "output_type": "stream",
     "text": [
      "Predicciones: [14.81785392 16.30754437 20.83230507  7.78243112], Valores Actuales: [16.9 22.4 21.4  7.3]\n"
     ]
    }
   ],
   "source": [
    "y_pred = reg.predict(X_test) # Genera las predicciones de la variable dependiente, X_test Es la matriz que contiene los nuevos datos (o datos de prueba) para los que queremos predecir el valor de salida.\n",
    "\n",
    "print(\"Predicciones: {}, Valores Actuales: {}\".format(y_pred[:4], Y_test[:4])) #Los corchetes {} son marcadores de posición que serán reemplazados por los valores proporcionados en el método format().\n",
    "\n",
    "# y_pred[:4], Y_test[:4]  Es una operación de slicing (corte) que selecciona las primeras cuatro predicciones del array"
   ]
  },
  {
   "cell_type": "markdown",
   "metadata": {},
   "source": [
    "Nuestro modelo de predicción no se acerca mucho a nuestos valores reales actuales"
   ]
  },
  {
   "cell_type": "markdown",
   "metadata": {},
   "source": [
    "### Conocer funcionamiento general del modelo"
   ]
  },
  {
   "cell_type": "markdown",
   "metadata": {},
   "source": [
    "R-Square (Coeficiente de Determinación)\n",
    "\n",
    "El R-squared (R²) es una medida que indica qué tan bien el modelo de regresión se ajusta a los datos. Representa la proporción de la varianza en la variable dependiente que es explicada por las variables independientes en el modelo. \n",
    "\n",
    "R² = 1: El modelo explica el 100% de la variabilidad de los datos.\n",
    "\n",
    "R² = 0: El modelo no explica ninguna variabilidad.\n",
    "\n",
    "Valores negativos: Indican que el modelo se comporta peor que un modelo de referencia simple, como predecir siempre el valor medio de los datos."
   ]
  },
  {
   "cell_type": "code",
   "execution_count": 689,
   "metadata": {},
   "outputs": [
    {
     "name": "stdout",
     "output_type": "stream",
     "text": [
      "0.6714477229302764\n"
     ]
    }
   ],
   "source": [
    "r_squared = reg.score(X_test,Y_test)\n",
    "\n",
    "print(r_squared )"
   ]
  },
  {
   "cell_type": "markdown",
   "metadata": {},
   "source": [
    "#### RMSE (Root Mean Squared Error)\n",
    "\n",
    "El RMSE (Root Mean Squared Error) es una medida que indica la magnitud promedio del error de las predicciones. Es la raíz cuadrada del Error Cuadrático Medio (MSE), lo que significa que penaliza más los errores grandes.\n",
    "\n",
    "Un RMSE bajo indica un modelo con buenas predicciones, ya que los errores son pequeños.\n",
    "Un RMSE alto indica que el modelo está cometiendo errores grandes y puede no estar ajustando bien los datos."
   ]
  },
  {
   "cell_type": "code",
   "execution_count": 690,
   "metadata": {},
   "outputs": [
    {
     "name": "stdout",
     "output_type": "stream",
     "text": [
      "8.970991242413614\n"
     ]
    }
   ],
   "source": [
    "rmse = mean_squared_error (Y_test, y_pred)\n",
    "\n",
    "print(rmse)  "
   ]
  },
  {
   "cell_type": "markdown",
   "metadata": {},
   "source": [
    "#### Crear un data frame para visualizar predicciones"
   ]
  },
  {
   "cell_type": "code",
   "execution_count": 691,
   "metadata": {},
   "outputs": [
    {
     "data": {
      "text/html": [
       "<div>\n",
       "<style scoped>\n",
       "    .dataframe tbody tr th:only-of-type {\n",
       "        vertical-align: middle;\n",
       "    }\n",
       "\n",
       "    .dataframe tbody tr th {\n",
       "        vertical-align: top;\n",
       "    }\n",
       "\n",
       "    .dataframe thead th {\n",
       "        text-align: right;\n",
       "    }\n",
       "</style>\n",
       "<table border=\"1\" class=\"dataframe\">\n",
       "  <thead>\n",
       "    <tr style=\"text-align: right;\">\n",
       "      <th></th>\n",
       "      <th>TV</th>\n",
       "      <th>RealSales</th>\n",
       "      <th>PredSales</th>\n",
       "    </tr>\n",
       "  </thead>\n",
       "  <tbody>\n",
       "    <tr>\n",
       "      <th>0</th>\n",
       "      <td>163.3</td>\n",
       "      <td>16.9</td>\n",
       "      <td>14.817854</td>\n",
       "    </tr>\n",
       "    <tr>\n",
       "      <th>1</th>\n",
       "      <td>195.4</td>\n",
       "      <td>22.4</td>\n",
       "      <td>16.307544</td>\n",
       "    </tr>\n",
       "    <tr>\n",
       "      <th>2</th>\n",
       "      <td>292.9</td>\n",
       "      <td>21.4</td>\n",
       "      <td>20.832305</td>\n",
       "    </tr>\n",
       "    <tr>\n",
       "      <th>3</th>\n",
       "      <td>11.7</td>\n",
       "      <td>7.3</td>\n",
       "      <td>7.782431</td>\n",
       "    </tr>\n",
       "    <tr>\n",
       "      <th>4</th>\n",
       "      <td>220.3</td>\n",
       "      <td>24.7</td>\n",
       "      <td>17.463099</td>\n",
       "    </tr>\n",
       "  </tbody>\n",
       "</table>\n",
       "</div>"
      ],
      "text/plain": [
       "      TV  RealSales  PredSales\n",
       "0  163.3       16.9  14.817854\n",
       "1  195.4       22.4  16.307544\n",
       "2  292.9       21.4  20.832305\n",
       "3   11.7        7.3   7.782431\n",
       "4  220.3       24.7  17.463099"
      ]
     },
     "execution_count": 691,
     "metadata": {},
     "output_type": "execute_result"
    }
   ],
   "source": [
    "# Este código crea un DataFrame con las columnas TV, RealSales, y PredSales, donde  de compara las ventas reales con las predicciones del modelo.\n",
    "\n",
    "sales_comp = pd.DataFrame(\n",
    "    { \"TV\" : X_test.flatten(), \n",
    "    \"RealSales\": Y_test.flatten(),\n",
    "     \"PredSales\": y_pred.flatten()  \n",
    "    })\n",
    "\n",
    "sales_comp.head()"
   ]
  },
  {
   "cell_type": "markdown",
   "metadata": {},
   "source": [
    "#### Crear un gráfico para visualizar predicciones"
   ]
  },
  {
   "cell_type": "code",
   "execution_count": 692,
   "metadata": {},
   "outputs": [
    {
     "data": {
      "text/plain": [
       "<function matplotlib.pyplot.show(close=None, block=None)>"
      ]
     },
     "execution_count": 692,
     "metadata": {},
     "output_type": "execute_result"
    },
    {
     "data": {
      "image/png": "[encoded data removed]",
      "text/plain": [
       "<Figure size 640x480 with 1 Axes>"
      ]
     },
     "metadata": {},
     "output_type": "display_data"
    }
   ],
   "source": [
    "plt.plot (sales_comp [\"TV\"], sales_comp [\"RealSales\"], \"ro\") # Grafica los valores de \"TV\" en el eje X y las ventas reales (\"RealSales\") en el eje Y, usando puntos rojos\n",
    "plt.plot (sales_comp [\"TV\"], sales_comp [\"PredSales\"]) #  Este comando grafica las predicciones de ventas (\"PredSales\") en función de los valores de \"TV\", usando una línea por defecto.\n",
    "plt.title(\"Ventas con respecto a la publicidad en TV\")\n",
    "plt.xlabel(\"TV\")\n",
    "plt.ylabel(\"Ventas\")\n",
    "plt.show"
   ]
  },
  {
   "cell_type": "markdown",
   "metadata": {},
   "source": [
    "#### Variable independiente Radio"
   ]
  },
  {
   "cell_type": "code",
   "execution_count": 693,
   "metadata": {},
   "outputs": [
    {
     "data": {
      "text/plain": [
       "array([[37.8],\n",
       "       [39.3],\n",
       "       [45.9],\n",
       "       [41.3],\n",
       "       [10.8],\n",
       "       [48.9],\n",
       "       [32.8],\n",
       "       [19.6],\n",
       "       [ 2.1],\n",
       "       [ 2.6],\n",
       "       [ 5.8],\n",
       "       [24. ],\n",
       "       [35.1],\n",
       "       [ 7.6],\n",
       "       [32.9],\n",
       "       [47.7],\n",
       "       [36.6],\n",
       "       [39.6],\n",
       "       [20.5],\n",
       "       [23.9],\n",
       "       [27.7],\n",
       "       [ 5.1],\n",
       "       [15.9],\n",
       "       [16.9],\n",
       "       [12.6],\n",
       "       [ 3.5],\n",
       "       [29.3],\n",
       "       [16.7],\n",
       "       [27.1],\n",
       "       [16. ],\n",
       "       [28.3],\n",
       "       [17.4],\n",
       "       [ 1.5],\n",
       "       [20. ],\n",
       "       [ 1.4],\n",
       "       [ 4.1],\n",
       "       [43.8],\n",
       "       [49.4],\n",
       "       [26.7],\n",
       "       [37.7],\n",
       "       [22.3],\n",
       "       [33.4],\n",
       "       [27.7],\n",
       "       [ 8.4],\n",
       "       [25.7],\n",
       "       [22.5],\n",
       "       [ 9.9],\n",
       "       [41.5],\n",
       "       [15.8],\n",
       "       [11.7],\n",
       "       [ 3.1],\n",
       "       [ 9.6],\n",
       "       [41.7],\n",
       "       [46.2],\n",
       "       [28.8],\n",
       "       [49.4],\n",
       "       [28.1],\n",
       "       [19.2],\n",
       "       [49.6],\n",
       "       [29.5],\n",
       "       [ 2. ],\n",
       "       [42.7],\n",
       "       [15.5],\n",
       "       [29.6],\n",
       "       [42.8],\n",
       "       [ 9.3],\n",
       "       [24.6],\n",
       "       [14.5],\n",
       "       [27.5],\n",
       "       [43.9],\n",
       "       [30.6],\n",
       "       [14.3],\n",
       "       [33. ],\n",
       "       [ 5.7],\n",
       "       [24.6],\n",
       "       [43.7],\n",
       "       [ 1.6],\n",
       "       [28.5],\n",
       "       [29.9],\n",
       "       [ 7.7],\n",
       "       [26.7],\n",
       "       [ 4.1],\n",
       "       [20.3],\n",
       "       [44.5],\n",
       "       [43. ],\n",
       "       [18.4],\n",
       "       [27.5],\n",
       "       [40.6],\n",
       "       [25.5],\n",
       "       [47.8],\n",
       "       [ 4.9],\n",
       "       [ 1.5],\n",
       "       [33.5],\n",
       "       [36.5],\n",
       "       [14. ],\n",
       "       [31.6],\n",
       "       [ 3.5],\n",
       "       [21. ],\n",
       "       [42.3],\n",
       "       [41.7],\n",
       "       [ 4.3],\n",
       "       [36.3],\n",
       "       [10.1],\n",
       "       [17.2],\n",
       "       [34.3],\n",
       "       [46.4],\n",
       "       [11. ],\n",
       "       [ 0.3],\n",
       "       [ 0.4],\n",
       "       [26.9],\n",
       "       [ 8.2],\n",
       "       [38. ],\n",
       "       [15.4],\n",
       "       [20.6],\n",
       "       [46.8],\n",
       "       [35. ],\n",
       "       [14.3],\n",
       "       [ 0.8],\n",
       "       [36.9],\n",
       "       [16. ],\n",
       "       [26.8],\n",
       "       [21.7],\n",
       "       [ 2.4],\n",
       "       [34.6],\n",
       "       [32.3],\n",
       "       [11.8],\n",
       "       [38.9],\n",
       "       [ 0. ],\n",
       "       [49. ],\n",
       "       [12. ],\n",
       "       [39.6],\n",
       "       [ 2.9],\n",
       "       [27.2],\n",
       "       [33.5],\n",
       "       [38.6],\n",
       "       [47. ],\n",
       "       [39. ],\n",
       "       [28.9],\n",
       "       [25.9],\n",
       "       [43.9],\n",
       "       [17. ],\n",
       "       [35.4],\n",
       "       [33.2],\n",
       "       [ 5.7],\n",
       "       [14.8],\n",
       "       [ 1.9],\n",
       "       [ 7.3],\n",
       "       [49. ],\n",
       "       [40.3],\n",
       "       [25.8],\n",
       "       [13.9],\n",
       "       [ 8.4],\n",
       "       [23.3],\n",
       "       [39.7],\n",
       "       [21.1],\n",
       "       [11.6],\n",
       "       [43.5],\n",
       "       [ 1.3],\n",
       "       [36.9],\n",
       "       [18.4],\n",
       "       [18.1],\n",
       "       [35.8],\n",
       "       [18.1],\n",
       "       [36.8],\n",
       "       [14.7],\n",
       "       [ 3.4],\n",
       "       [37.6],\n",
       "       [ 5.2],\n",
       "       [23.6],\n",
       "       [10.6],\n",
       "       [11.6],\n",
       "       [20.9],\n",
       "       [20.1],\n",
       "       [ 7.1],\n",
       "       [ 3.4],\n",
       "       [48.9],\n",
       "       [30.2],\n",
       "       [ 7.8],\n",
       "       [ 2.3],\n",
       "       [10. ],\n",
       "       [ 2.6],\n",
       "       [ 5.4],\n",
       "       [ 5.7],\n",
       "       [43. ],\n",
       "       [21.3],\n",
       "       [45.1],\n",
       "       [ 2.1],\n",
       "       [28.7],\n",
       "       [13.9],\n",
       "       [12.1],\n",
       "       [41.1],\n",
       "       [10.8],\n",
       "       [ 4.1],\n",
       "       [42. ],\n",
       "       [35.6],\n",
       "       [ 3.7],\n",
       "       [ 4.9],\n",
       "       [ 9.3],\n",
       "       [42. ],\n",
       "       [ 8.6]])"
      ]
     },
     "execution_count": 693,
     "metadata": {},
     "output_type": "execute_result"
    }
   ],
   "source": [
    "data_Radio = data [\"Radio\"] # Guardar en variable la columna Radio\n",
    "data_Radio = data_Radio.values.reshape (-1,1) #se utiliza para cambiar la forma (dimensiones) de un arreglo sin alterar sus datos.\n",
    "data_Radio\n",
    "\n",
    "\n"
   ]
  },
  {
   "cell_type": "code",
   "execution_count": 694,
   "metadata": {},
   "outputs": [],
   "source": [
    "y = data[\"Sales\"].values  ## Solo selecciono los valores de la columna \"Sales\" que es mi variable dependiente"
   ]
  },
  {
   "cell_type": "markdown",
   "metadata": {},
   "source": [
    "#### Dividir conjunto entre entrenamiento y testing"
   ]
  },
  {
   "cell_type": "code",
   "execution_count": 695,
   "metadata": {},
   "outputs": [],
   "source": [
    "X_train, X_test, Y_train, Y_test =  train_test_split (data_Radio, y, test_size =0.3, random_state=42)"
   ]
  },
  {
   "cell_type": "markdown",
   "metadata": {},
   "source": [
    "#### Crear regresión, entrenar el modelo y hacer predicciones"
   ]
  },
  {
   "cell_type": "code",
   "execution_count": 696,
   "metadata": {},
   "outputs": [
    {
     "name": "stdout",
     "output_type": "stream",
     "text": [
      "Predicciones: [16.26772205 19.79791711 15.5441417  17.42983596], Valores Actuales: [16.9 22.4 21.4  7.3]\n"
     ]
    }
   ],
   "source": [
    "reg = LinearRegression()\n",
    "reg.fit(X_train,Y_train)\n",
    "\n",
    "y_pred = reg.predict(X_test)\n",
    "\n",
    "print(\"Predicciones: {}, Valores Actuales: {}\".format(y_pred[:4], Y_test[:4]))"
   ]
  },
  {
   "cell_type": "markdown",
   "metadata": {},
   "source": [
    "####  R-Square (Coeficiente de Determinación)"
   ]
  },
  {
   "cell_type": "code",
   "execution_count": 697,
   "metadata": {},
   "outputs": [
    {
     "name": "stdout",
     "output_type": "stream",
     "text": [
      "0.13116693684196756\n"
     ]
    }
   ],
   "source": [
    "r_squared = reg.score(X_test,Y_test)\n",
    "\n",
    "print(r_squared )"
   ]
  },
  {
   "cell_type": "markdown",
   "metadata": {},
   "source": [
    "#### RMSE (Root Mean Squared Error)"
   ]
  },
  {
   "cell_type": "code",
   "execution_count": 698,
   "metadata": {},
   "outputs": [
    {
     "name": "stdout",
     "output_type": "stream",
     "text": [
      "23.723146496580338\n"
     ]
    }
   ],
   "source": [
    "rmse = mean_squared_error (Y_test, y_pred)\n",
    "\n",
    "print(rmse )  "
   ]
  },
  {
   "cell_type": "markdown",
   "metadata": {},
   "source": [
    "#### Crear un data frame para visualizar predicciones"
   ]
  },
  {
   "cell_type": "code",
   "execution_count": 699,
   "metadata": {},
   "outputs": [
    {
     "data": {
      "text/html": [
       "<div>\n",
       "<style scoped>\n",
       "    .dataframe tbody tr th:only-of-type {\n",
       "        vertical-align: middle;\n",
       "    }\n",
       "\n",
       "    .dataframe tbody tr th {\n",
       "        vertical-align: top;\n",
       "    }\n",
       "\n",
       "    .dataframe thead th {\n",
       "        text-align: right;\n",
       "    }\n",
       "</style>\n",
       "<table border=\"1\" class=\"dataframe\">\n",
       "  <thead>\n",
       "    <tr style=\"text-align: right;\">\n",
       "      <th></th>\n",
       "      <th>Radio</th>\n",
       "      <th>RealSales</th>\n",
       "      <th>PredSales</th>\n",
       "    </tr>\n",
       "  </thead>\n",
       "  <tbody>\n",
       "    <tr>\n",
       "      <th>0</th>\n",
       "      <td>31.6</td>\n",
       "      <td>16.9</td>\n",
       "      <td>16.267722</td>\n",
       "    </tr>\n",
       "    <tr>\n",
       "      <th>1</th>\n",
       "      <td>47.7</td>\n",
       "      <td>22.4</td>\n",
       "      <td>19.797917</td>\n",
       "    </tr>\n",
       "    <tr>\n",
       "      <th>2</th>\n",
       "      <td>28.3</td>\n",
       "      <td>21.4</td>\n",
       "      <td>15.544142</td>\n",
       "    </tr>\n",
       "    <tr>\n",
       "      <th>3</th>\n",
       "      <td>36.9</td>\n",
       "      <td>7.3</td>\n",
       "      <td>17.429836</td>\n",
       "    </tr>\n",
       "    <tr>\n",
       "      <th>4</th>\n",
       "      <td>49.0</td>\n",
       "      <td>24.7</td>\n",
       "      <td>20.082964</td>\n",
       "    </tr>\n",
       "  </tbody>\n",
       "</table>\n",
       "</div>"
      ],
      "text/plain": [
       "   Radio  RealSales  PredSales\n",
       "0   31.6       16.9  16.267722\n",
       "1   47.7       22.4  19.797917\n",
       "2   28.3       21.4  15.544142\n",
       "3   36.9        7.3  17.429836\n",
       "4   49.0       24.7  20.082964"
      ]
     },
     "execution_count": 699,
     "metadata": {},
     "output_type": "execute_result"
    }
   ],
   "source": [
    "sales_comp = pd.DataFrame(\n",
    "    { \"Radio\" : X_test.flatten(),\n",
    "    \"RealSales\": Y_test.flatten(),\n",
    "     \"PredSales\": y_pred.flatten() \n",
    "        \n",
    "    })\n",
    "\n",
    "sales_comp.head()"
   ]
  },
  {
   "cell_type": "markdown",
   "metadata": {},
   "source": [
    "#### Crear un gráfico para visualizar predicciones en Radio"
   ]
  },
  {
   "cell_type": "code",
   "execution_count": 700,
   "metadata": {},
   "outputs": [
    {
     "data": {
      "text/plain": [
       "<function matplotlib.pyplot.show(close=None, block=None)>"
      ]
     },
     "execution_count": 700,
     "metadata": {},
     "output_type": "execute_result"
    },
    {
     "data": {
      "image/png": "[encoded data removed]",
      "text/plain": [
       "<Figure size 640x480 with 1 Axes>"
      ]
     },
     "metadata": {},
     "output_type": "display_data"
    }
   ],
   "source": [
    "plt.plot (sales_comp [\"Radio\"], sales_comp [\"RealSales\"], \"bo\")\n",
    "plt.plot (sales_comp [\"Radio\"], sales_comp [\"PredSales\"])\n",
    "plt.title(\"Ventas con respecto a la publicidad en Radio\")\n",
    "plt.xlabel(\"Radio\")\n",
    "plt.ylabel(\"Ventas\")\n",
    "plt.show"
   ]
  },
  {
   "cell_type": "markdown",
   "metadata": {},
   "source": [
    "#### Variable independiente Newspaper"
   ]
  },
  {
   "cell_type": "code",
   "execution_count": 745,
   "metadata": {},
   "outputs": [
    {
     "data": {
      "text/plain": [
       "array([[ 69.2],\n",
       "       [ 45.1],\n",
       "       [ 69.3],\n",
       "       [ 58.5],\n",
       "       [ 58.4],\n",
       "       [ 75. ],\n",
       "       [ 23.5],\n",
       "       [ 11.6],\n",
       "       [  1. ],\n",
       "       [ 21.2],\n",
       "       [ 24.2],\n",
       "       [  4. ],\n",
       "       [ 65.9],\n",
       "       [  7.2],\n",
       "       [ 46. ],\n",
       "       [ 52.9],\n",
       "       [114. ],\n",
       "       [ 55.8],\n",
       "       [ 18.3],\n",
       "       [ 19.1],\n",
       "       [ 53.4],\n",
       "       [ 23.5],\n",
       "       [ 49.6],\n",
       "       [ 26.2],\n",
       "       [ 18.3],\n",
       "       [ 19.5],\n",
       "       [ 12.6],\n",
       "       [ 22.9],\n",
       "       [ 22.9],\n",
       "       [ 40.8],\n",
       "       [ 43.2],\n",
       "       [ 38.6],\n",
       "       [ 30. ],\n",
       "       [  0.3],\n",
       "       [  7.4],\n",
       "       [  8.5],\n",
       "       [  5. ],\n",
       "       [ 45.7],\n",
       "       [ 35.1],\n",
       "       [ 32. ],\n",
       "       [ 31.6],\n",
       "       [ 38.7],\n",
       "       [  1.8],\n",
       "       [ 26.4],\n",
       "       [ 43.3],\n",
       "       [ 31.5],\n",
       "       [ 35.7],\n",
       "       [ 18.5],\n",
       "       [ 49.9],\n",
       "       [ 36.8],\n",
       "       [ 34.6],\n",
       "       [  3.6],\n",
       "       [ 39.6],\n",
       "       [ 58.7],\n",
       "       [ 15.9],\n",
       "       [ 60. ],\n",
       "       [ 41.4],\n",
       "       [ 16.6],\n",
       "       [ 37.7],\n",
       "       [  9.3],\n",
       "       [ 21.4],\n",
       "       [ 54.7],\n",
       "       [ 27.3],\n",
       "       [  8.4],\n",
       "       [ 28.9],\n",
       "       [  0.9],\n",
       "       [  2.2],\n",
       "       [ 10.2],\n",
       "       [ 11. ],\n",
       "       [ 27.2],\n",
       "       [ 38.7],\n",
       "       [ 31.7],\n",
       "       [ 19.3],\n",
       "       [ 31.3],\n",
       "       [ 13.1],\n",
       "       [ 89.4],\n",
       "       [ 20.7],\n",
       "       [ 14.2],\n",
       "       [  9.4],\n",
       "       [ 23.1],\n",
       "       [ 22.3],\n",
       "       [ 36.9],\n",
       "       [ 32.5],\n",
       "       [ 35.6],\n",
       "       [ 33.8],\n",
       "       [ 65.7],\n",
       "       [ 16. ],\n",
       "       [ 63.2],\n",
       "       [ 73.4],\n",
       "       [ 51.4],\n",
       "       [  9.3],\n",
       "       [ 33. ],\n",
       "       [ 59. ],\n",
       "       [ 72.3],\n",
       "       [ 10.9],\n",
       "       [ 52.9],\n",
       "       [  5.9],\n",
       "       [ 22. ],\n",
       "       [ 51.2],\n",
       "       [ 45.9],\n",
       "       [ 49.8],\n",
       "       [100.9],\n",
       "       [ 21.4],\n",
       "       [ 17.9],\n",
       "       [  5.3],\n",
       "       [ 59. ],\n",
       "       [ 29.7],\n",
       "       [ 23.2],\n",
       "       [ 25.6],\n",
       "       [  5.5],\n",
       "       [ 56.5],\n",
       "       [ 23.2],\n",
       "       [  2.4],\n",
       "       [ 10.7],\n",
       "       [ 34.5],\n",
       "       [ 52.7],\n",
       "       [ 25.6],\n",
       "       [ 14.8],\n",
       "       [ 79.2],\n",
       "       [ 22.3],\n",
       "       [ 46.2],\n",
       "       [ 50.4],\n",
       "       [ 15.6],\n",
       "       [ 12.4],\n",
       "       [ 74.2],\n",
       "       [ 25.9],\n",
       "       [ 50.6],\n",
       "       [  9.2],\n",
       "       [  3.2],\n",
       "       [ 43.1],\n",
       "       [  8.7],\n",
       "       [ 43. ],\n",
       "       [  2.1],\n",
       "       [ 45.1],\n",
       "       [ 65.6],\n",
       "       [  8.5],\n",
       "       [  9.3],\n",
       "       [ 59.7],\n",
       "       [ 20.5],\n",
       "       [  1.7],\n",
       "       [ 12.9],\n",
       "       [ 75.6],\n",
       "       [ 37.9],\n",
       "       [ 34.4],\n",
       "       [ 38.9],\n",
       "       [  9. ],\n",
       "       [  8.7],\n",
       "       [ 44.3],\n",
       "       [ 11.9],\n",
       "       [ 20.6],\n",
       "       [ 37. ],\n",
       "       [ 48.7],\n",
       "       [ 14.2],\n",
       "       [ 37.7],\n",
       "       [  9.5],\n",
       "       [  5.7],\n",
       "       [ 50.5],\n",
       "       [ 24.3],\n",
       "       [ 45.2],\n",
       "       [ 34.6],\n",
       "       [ 30.7],\n",
       "       [ 49.3],\n",
       "       [ 25.6],\n",
       "       [  7.4],\n",
       "       [  5.4],\n",
       "       [ 84.8],\n",
       "       [ 21.6],\n",
       "       [ 19.4],\n",
       "       [ 57.6],\n",
       "       [  6.4],\n",
       "       [ 18.4],\n",
       "       [ 47.4],\n",
       "       [ 17. ],\n",
       "       [ 12.8],\n",
       "       [ 13.1],\n",
       "       [ 41.8],\n",
       "       [ 20.3],\n",
       "       [ 35.2],\n",
       "       [ 23.7],\n",
       "       [ 17.6],\n",
       "       [  8.3],\n",
       "       [ 27.4],\n",
       "       [ 29.7],\n",
       "       [ 71.8],\n",
       "       [ 30. ],\n",
       "       [ 19.6],\n",
       "       [ 26.6],\n",
       "       [ 18.2],\n",
       "       [  3.7],\n",
       "       [ 23.4],\n",
       "       [  5.8],\n",
       "       [  6. ],\n",
       "       [ 31.6],\n",
       "       [  3.6],\n",
       "       [  6. ],\n",
       "       [ 13.8],\n",
       "       [  8.1],\n",
       "       [  6.4],\n",
       "       [ 66.2],\n",
       "       [  8.7]])"
      ]
     },
     "execution_count": 745,
     "metadata": {},
     "output_type": "execute_result"
    }
   ],
   "source": [
    "data_Newspaper = data [\"Newspaper\"]\n",
    "data_Newspaper = data_Newspaper.values.reshape (-1,1)\n",
    "data_Newspaper"
   ]
  },
  {
   "cell_type": "code",
   "execution_count": 746,
   "metadata": {},
   "outputs": [],
   "source": [
    "y = data[\"Sales\"].values ## Solo selecciono los valores de la columna \"Sales\""
   ]
  },
  {
   "cell_type": "markdown",
   "metadata": {},
   "source": [
    "#### Dividir conjunto entre entrenamiento y testing"
   ]
  },
  {
   "cell_type": "code",
   "execution_count": 747,
   "metadata": {},
   "outputs": [],
   "source": [
    "X_train, X_test, Y_train, Y_test =  train_test_split (data_Newspaper, y, test_size =0.3, random_state=42)"
   ]
  },
  {
   "cell_type": "markdown",
   "metadata": {},
   "source": [
    "#### Crear regresión, entrenar el modelo y hacer predicciones"
   ]
  },
  {
   "cell_type": "code",
   "execution_count": 748,
   "metadata": {},
   "outputs": [
    {
     "name": "stdout",
     "output_type": "stream",
     "text": [
      "Predicciones: [15.86524548 15.86524548 15.27418406 15.39605239], Valores Actuales: [16.9 22.4 21.4  7.3]\n"
     ]
    }
   ],
   "source": [
    "reg = LinearRegression()\n",
    "reg.fit(X_train,Y_train)\n",
    "\n",
    "y_pred = reg.predict(X_test)\n",
    "\n",
    "print(\"Predicciones: {}, Valores Actuales: {}\".format(y_pred[:4], Y_test[:4]))"
   ]
  },
  {
   "cell_type": "markdown",
   "metadata": {},
   "source": [
    "####  R-Square (Coeficiente de Determinación)"
   ]
  },
  {
   "cell_type": "code",
   "execution_count": 749,
   "metadata": {},
   "outputs": [
    {
     "name": "stdout",
     "output_type": "stream",
     "text": [
      "-0.057301173788661064\n"
     ]
    }
   ],
   "source": [
    "r_squared = reg.score(X_test,Y_test)\n",
    "\n",
    "print(r_squared )"
   ]
  },
  {
   "cell_type": "markdown",
   "metadata": {},
   "source": [
    "#### RMSE (Root Mean Squared Error) "
   ]
  },
  {
   "cell_type": "code",
   "execution_count": 750,
   "metadata": {},
   "outputs": [
    {
     "name": "stdout",
     "output_type": "stream",
     "text": [
      "28.869194440672988\n"
     ]
    }
   ],
   "source": [
    "rmse = mean_squared_error (Y_test, y_pred)\n",
    "\n",
    "print(rmse )  "
   ]
  },
  {
   "cell_type": "markdown",
   "metadata": {},
   "source": [
    "#### Crear un data frame para visualizar predicciones"
   ]
  },
  {
   "cell_type": "code",
   "execution_count": 751,
   "metadata": {},
   "outputs": [
    {
     "data": {
      "text/html": [
       "<div>\n",
       "<style scoped>\n",
       "    .dataframe tbody tr th:only-of-type {\n",
       "        vertical-align: middle;\n",
       "    }\n",
       "\n",
       "    .dataframe tbody tr th {\n",
       "        vertical-align: top;\n",
       "    }\n",
       "\n",
       "    .dataframe thead th {\n",
       "        text-align: right;\n",
       "    }\n",
       "</style>\n",
       "<table border=\"1\" class=\"dataframe\">\n",
       "  <thead>\n",
       "    <tr style=\"text-align: right;\">\n",
       "      <th></th>\n",
       "      <th>Newspaper</th>\n",
       "      <th>RealSales</th>\n",
       "      <th>PredSales</th>\n",
       "    </tr>\n",
       "  </thead>\n",
       "  <tbody>\n",
       "    <tr>\n",
       "      <th>0</th>\n",
       "      <td>52.9</td>\n",
       "      <td>16.9</td>\n",
       "      <td>15.865245</td>\n",
       "    </tr>\n",
       "    <tr>\n",
       "      <th>1</th>\n",
       "      <td>52.9</td>\n",
       "      <td>22.4</td>\n",
       "      <td>15.865245</td>\n",
       "    </tr>\n",
       "    <tr>\n",
       "      <th>2</th>\n",
       "      <td>43.2</td>\n",
       "      <td>21.4</td>\n",
       "      <td>15.274184</td>\n",
       "    </tr>\n",
       "    <tr>\n",
       "      <th>3</th>\n",
       "      <td>45.2</td>\n",
       "      <td>7.3</td>\n",
       "      <td>15.396052</td>\n",
       "    </tr>\n",
       "    <tr>\n",
       "      <th>4</th>\n",
       "      <td>3.2</td>\n",
       "      <td>24.7</td>\n",
       "      <td>12.836817</td>\n",
       "    </tr>\n",
       "  </tbody>\n",
       "</table>\n",
       "</div>"
      ],
      "text/plain": [
       "   Newspaper  RealSales  PredSales\n",
       "0       52.9       16.9  15.865245\n",
       "1       52.9       22.4  15.865245\n",
       "2       43.2       21.4  15.274184\n",
       "3       45.2        7.3  15.396052\n",
       "4        3.2       24.7  12.836817"
      ]
     },
     "execution_count": 751,
     "metadata": {},
     "output_type": "execute_result"
    }
   ],
   "source": [
    "sales_comp = pd.DataFrame(\n",
    "    { \"Newspaper\" : X_test.flatten(),\n",
    "    \"RealSales\": Y_test.flatten(),\n",
    "     \"PredSales\": y_pred.flatten() \n",
    "        \n",
    "    })\n",
    "\n",
    "sales_comp.head()"
   ]
  },
  {
   "cell_type": "markdown",
   "metadata": {},
   "source": [
    "#### Crear un gráfico para visualizar predicciones en Periódico"
   ]
  },
  {
   "cell_type": "code",
   "execution_count": 752,
   "metadata": {},
   "outputs": [
    {
     "data": {
      "text/plain": [
       "<function matplotlib.pyplot.show(close=None, block=None)>"
      ]
     },
     "execution_count": 752,
     "metadata": {},
     "output_type": "execute_result"
    },
    {
     "data": {
      "image/png": "[encoded data removed]",
      "text/plain": [
       "<Figure size 640x480 with 1 Axes>"
      ]
     },
     "metadata": {},
     "output_type": "display_data"
    }
   ],
   "source": [
    "plt.plot (sales_comp [\"Newspaper\"], sales_comp [\"RealSales\"], \"yo\")\n",
    "plt.plot (sales_comp [\"Newspaper\"], sales_comp [\"PredSales\"])\n",
    "plt.title(\"Ventas con respecto a la publicidad en Periódico\")\n",
    "plt.xlabel(\"Periodico\")\n",
    "plt.ylabel(\"Ventas\")\n",
    "plt.show"
   ]
  },
  {
   "cell_type": "markdown",
   "metadata": {},
   "source": [
    "### Regresión lineal múltiple"
   ]
  },
  {
   "cell_type": "markdown",
   "metadata": {},
   "source": [
    "### Periódico y tv"
   ]
  },
  {
   "cell_type": "code",
   "execution_count": 753,
   "metadata": {},
   "outputs": [
    {
     "name": "stdout",
     "output_type": "stream",
     "text": [
      "Predicciones: [16.04429782 17.51962128 21.46954703  8.65505487], Valores Actuales: [16.9 22.4 21.4  7.3]\n"
     ]
    }
   ],
   "source": [
    "x = data.drop ([\"Radio\",\"Sales\"], axis=1).values  # Eliminar columnas  \"Radio\",\"Sales\" y se almacenanen x\n",
    "\n",
    "y = data[\"Sales\"].values # Solo selecciono los valores de la columna \"Sales\" y las guardo en  variable y\n",
    "\n",
    "X_train, X_test, Y_train, Y_test =  train_test_split (x, y, test_size =0.3, random_state=42) # Dividir conjunto entre entrenamiento y testing\n",
    "\n",
    "# Entrenar el modelo\n",
    "reg = LinearRegression()\n",
    "reg.fit(X_train,Y_train)\n",
    "\n",
    "# Hacer preddciones\n",
    "\n",
    "y_pred = reg.predict(X_test)\n",
    "\n",
    "print(\"Predicciones: {}, Valores Actuales: {}\".format(y_pred[:4], Y_test[:4]))"
   ]
  },
  {
   "cell_type": "code",
   "execution_count": 754,
   "metadata": {},
   "outputs": [
    {
     "name": "stdout",
     "output_type": "stream",
     "text": [
      "0.668935545006016\n"
     ]
    }
   ],
   "source": [
    "#R-Square (Coeficiente de Determinación)\n",
    "r_squared = reg.score(X_test,Y_test)\n",
    "\n",
    "print(r_squared )"
   ]
  },
  {
   "cell_type": "code",
   "execution_count": 755,
   "metadata": {},
   "outputs": [
    {
     "name": "stdout",
     "output_type": "stream",
     "text": [
      "9.039585276699192\n"
     ]
    }
   ],
   "source": [
    "# RMSE (Root Mean Squared Error) \n",
    "rmse = mean_squared_error (Y_test, y_pred)\n",
    "\n",
    "print(rmse )  "
   ]
  },
  {
   "cell_type": "code",
   "execution_count": 756,
   "metadata": {},
   "outputs": [
    {
     "data": {
      "text/html": [
       "<div>\n",
       "<style scoped>\n",
       "    .dataframe tbody tr th:only-of-type {\n",
       "        vertical-align: middle;\n",
       "    }\n",
       "\n",
       "    .dataframe tbody tr th {\n",
       "        vertical-align: top;\n",
       "    }\n",
       "\n",
       "    .dataframe thead th {\n",
       "        text-align: right;\n",
       "    }\n",
       "</style>\n",
       "<table border=\"1\" class=\"dataframe\">\n",
       "  <thead>\n",
       "    <tr style=\"text-align: right;\">\n",
       "      <th></th>\n",
       "      <th>TV</th>\n",
       "      <th>Newspaper</th>\n",
       "      <th>RealSales</th>\n",
       "      <th>PredSales</th>\n",
       "    </tr>\n",
       "  </thead>\n",
       "  <tbody>\n",
       "    <tr>\n",
       "      <th>0</th>\n",
       "      <td>163.3</td>\n",
       "      <td>52.9</td>\n",
       "      <td>16.9</td>\n",
       "      <td>16.044298</td>\n",
       "    </tr>\n",
       "    <tr>\n",
       "      <th>1</th>\n",
       "      <td>195.4</td>\n",
       "      <td>52.9</td>\n",
       "      <td>22.4</td>\n",
       "      <td>17.519621</td>\n",
       "    </tr>\n",
       "    <tr>\n",
       "      <th>2</th>\n",
       "      <td>292.9</td>\n",
       "      <td>43.2</td>\n",
       "      <td>21.4</td>\n",
       "      <td>21.469547</td>\n",
       "    </tr>\n",
       "    <tr>\n",
       "      <th>3</th>\n",
       "      <td>11.7</td>\n",
       "      <td>45.2</td>\n",
       "      <td>7.3</td>\n",
       "      <td>8.655055</td>\n",
       "    </tr>\n",
       "    <tr>\n",
       "      <th>4</th>\n",
       "      <td>220.3</td>\n",
       "      <td>3.2</td>\n",
       "      <td>24.7</td>\n",
       "      <td>15.942332</td>\n",
       "    </tr>\n",
       "  </tbody>\n",
       "</table>\n",
       "</div>"
      ],
      "text/plain": [
       "      TV  Newspaper  RealSales  PredSales\n",
       "0  163.3       52.9       16.9  16.044298\n",
       "1  195.4       52.9       22.4  17.519621\n",
       "2  292.9       43.2       21.4  21.469547\n",
       "3   11.7       45.2        7.3   8.655055\n",
       "4  220.3        3.2       24.7  15.942332"
      ]
     },
     "execution_count": 756,
     "metadata": {},
     "output_type": "execute_result"
    }
   ],
   "source": [
    "# Crear data frame donde se guardan las dos variables independientes\n",
    "\n",
    "sales_comp = pd.DataFrame(\n",
    "    { \"TV\" : X_test[:, 0].flatten(),\n",
    "     \"Newspaper\" : X_test[:, 1].flatten(),\n",
    "    \"RealSales\": Y_test.flatten(),\n",
    "     \"PredSales\": y_pred.flatten() \n",
    "        \n",
    "    })\n",
    "\n",
    "sales_comp.head()"
   ]
  },
  {
   "cell_type": "code",
   "execution_count": null,
   "metadata": {},
   "outputs": [
    {
     "data": {
      "text/plain": [
       "<Axes: xlabel='RealSales', ylabel='PredSales'>"
      ]
     },
     "execution_count": 757,
     "metadata": {},
     "output_type": "execute_result"
    },
    {
     "data": {
      "image/png": "[encoded data removed]",
      "text/plain": [
       "<Figure size 640x480 with 1 Axes>"
      ]
     },
     "metadata": {},
     "output_type": "display_data"
    }
   ],
   "source": [
    "# Generar gráfico de regresión entre los valores reales y los que se predicen\n",
    "sns.regplot (x = sales_comp[\"RealSales\"],y = sales_comp[\"PredSales\"] )"
   ]
  },
  {
   "cell_type": "markdown",
   "metadata": {},
   "source": [
    "### TV y Radio"
   ]
  },
  {
   "cell_type": "code",
   "execution_count": 762,
   "metadata": {},
   "outputs": [
    {
     "name": "stdout",
     "output_type": "stream",
     "text": [
      "Predicciones: [16.43778963 21.11462413 21.48161733 10.82947123], Valores Actuales: [16.9 22.4 21.4  7.3]\n"
     ]
    }
   ],
   "source": [
    "x = data.drop ([\"Newspaper\",\"Sales\"], axis=1).values # Eliminar columnas  \"Newspaper\",\"Sales\" y se almacenanen x\n",
    "\n",
    "y = data[\"Sales\"].values # Solo selecciono los valores de la columna \"Sales\" y las guardo en  variable y\n",
    "\n",
    "X_train, X_test, Y_train, Y_test =  train_test_split (x, y, test_size =0.3, random_state=42) # Dividir conjunto entre entrenamiento y testing\n",
    "\n",
    "# Entrenar el modelo\n",
    "reg = LinearRegression()\n",
    "reg.fit(X_train,Y_train)\n",
    "\n",
    "# Hacer preddciones\n",
    "y_pred = reg.predict(X_test)\n",
    "\n",
    "print(\"Predicciones: {}, Valores Actuales: {}\".format(y_pred[:4], Y_test[:4]))\n",
    "\n"
   ]
  },
  {
   "cell_type": "code",
   "execution_count": 763,
   "metadata": {},
   "outputs": [
    {
     "name": "stdout",
     "output_type": "stream",
     "text": [
      "0.8656253548947075\n"
     ]
    }
   ],
   "source": [
    "#R-Square (Coeficiente de Determinación)\n",
    "r_squared = reg.score(X_test,Y_test)\n",
    "\n",
    "print(r_squared )"
   ]
  },
  {
   "cell_type": "code",
   "execution_count": 764,
   "metadata": {},
   "outputs": [
    {
     "data": {
      "text/html": [
       "<div>\n",
       "<style scoped>\n",
       "    .dataframe tbody tr th:only-of-type {\n",
       "        vertical-align: middle;\n",
       "    }\n",
       "\n",
       "    .dataframe tbody tr th {\n",
       "        vertical-align: top;\n",
       "    }\n",
       "\n",
       "    .dataframe thead th {\n",
       "        text-align: right;\n",
       "    }\n",
       "</style>\n",
       "<table border=\"1\" class=\"dataframe\">\n",
       "  <thead>\n",
       "    <tr style=\"text-align: right;\">\n",
       "      <th></th>\n",
       "      <th>TV</th>\n",
       "      <th>Radio</th>\n",
       "      <th>RealSales</th>\n",
       "      <th>PredSales</th>\n",
       "    </tr>\n",
       "  </thead>\n",
       "  <tbody>\n",
       "    <tr>\n",
       "      <th>0</th>\n",
       "      <td>163.3</td>\n",
       "      <td>31.6</td>\n",
       "      <td>16.9</td>\n",
       "      <td>16.437790</td>\n",
       "    </tr>\n",
       "    <tr>\n",
       "      <th>1</th>\n",
       "      <td>195.4</td>\n",
       "      <td>47.7</td>\n",
       "      <td>22.4</td>\n",
       "      <td>21.114624</td>\n",
       "    </tr>\n",
       "    <tr>\n",
       "      <th>2</th>\n",
       "      <td>292.9</td>\n",
       "      <td>28.3</td>\n",
       "      <td>21.4</td>\n",
       "      <td>21.481617</td>\n",
       "    </tr>\n",
       "    <tr>\n",
       "      <th>3</th>\n",
       "      <td>11.7</td>\n",
       "      <td>36.9</td>\n",
       "      <td>7.3</td>\n",
       "      <td>10.829471</td>\n",
       "    </tr>\n",
       "    <tr>\n",
       "      <th>4</th>\n",
       "      <td>220.3</td>\n",
       "      <td>49.0</td>\n",
       "      <td>24.7</td>\n",
       "      <td>22.475538</td>\n",
       "    </tr>\n",
       "  </tbody>\n",
       "</table>\n",
       "</div>"
      ],
      "text/plain": [
       "      TV  Radio  RealSales  PredSales\n",
       "0  163.3   31.6       16.9  16.437790\n",
       "1  195.4   47.7       22.4  21.114624\n",
       "2  292.9   28.3       21.4  21.481617\n",
       "3   11.7   36.9        7.3  10.829471\n",
       "4  220.3   49.0       24.7  22.475538"
      ]
     },
     "execution_count": 764,
     "metadata": {},
     "output_type": "execute_result"
    }
   ],
   "source": [
    "# Crear data frame donde se guardan las dos variables independientes\n",
    "sales_comp = pd.DataFrame(\n",
    "    { \"TV\" : X_test[:, 0].flatten(),\n",
    "     \"Radio\" : X_test[:, 1].flatten(),\n",
    "    \"RealSales\": Y_test.flatten(),\n",
    "     \"PredSales\": y_pred.flatten() \n",
    "        \n",
    "    })\n",
    "\n",
    "sales_comp.head()"
   ]
  },
  {
   "cell_type": "markdown",
   "metadata": {},
   "source": [
    "## Conclusiones\n",
    "\n",
    "### TV y Radio son las variables más significativas: Esto implica que el gasto en publicidad en TV y radio tiene un mayor impacto en las ventas en comparación con otras variables como el gasto en periódicos.\n",
    "\n",
    "###  Se afirma que las campañas publicitarias en TV y radio son estrategias efectivas para aumentar las ventas. Las empresas deberían priorizar estas plataformas si buscan maximizar su retorno de inversión en publicidad."
   ]
  }
 ],
 "metadata": {
  "kernelspec": {
   "display_name": "Python 3",
   "language": "python",
   "name": "python3"
  },
  "language_info": {
   "codemirror_mode": {
    "name": "ipython",
    "version": 3
   },
   "file_extension": ".py",
   "mimetype": "text/x-python",
   "name": "python",
   "nbconvert_exporter": "python",
   "pygments_lexer": "ipython3",
   "version": "3.10.6"
  }
 },
 "nbformat": 4,
 "nbformat_minor": 2
}
